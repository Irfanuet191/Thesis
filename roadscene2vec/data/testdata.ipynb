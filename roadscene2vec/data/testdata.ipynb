{
 "cells": [
  {
   "cell_type": "code",
   "execution_count": 1,
   "id": "b11dbb63",
   "metadata": {},
   "outputs": [
    {
     "name": "stdout",
     "output_type": "stream",
     "text": [
      "loading dataset /home/irfan/Downloads/use_case_data-20250504T102722Z-001/use_case_data/271_carla_scenegraphs.pkl\n"
     ]
    },
    {
     "ename": "ModuleNotFoundError",
     "evalue": "No module named 'roadscene2vec'",
     "output_type": "error",
     "traceback": [
      "\u001b[0;31m---------------------------------------------------------------------------\u001b[0m",
      "\u001b[0;31mModuleNotFoundError\u001b[0m                       Traceback (most recent call last)",
      "Cell \u001b[0;32mIn[1], line 17\u001b[0m\n\u001b[1;32m     15\u001b[0m scene_graph_dataset  \u001b[38;5;241m=\u001b[39m SceneGraphDataset()\n\u001b[1;32m     16\u001b[0m scene_graph_dataset\u001b[38;5;241m.\u001b[39mdataset_save_path \u001b[38;5;241m=\u001b[39m\u001b[38;5;124m\"\u001b[39m\u001b[38;5;124m/home/irfan/Downloads/use_case_data-20250504T102722Z-001/use_case_data/271_carla_scenegraphs.pkl\u001b[39m\u001b[38;5;124m\"\u001b[39m\n\u001b[0;32m---> 17\u001b[0m scene_graph_dataset_ \u001b[38;5;241m=\u001b[39m \u001b[43mscene_graph_dataset\u001b[49m\u001b[38;5;241;43m.\u001b[39;49m\u001b[43mload\u001b[49m\u001b[43m(\u001b[49m\u001b[43m)\u001b[49m  \n",
      "File \u001b[0;32m~/roadscene2vec/roadscene2vec/data/dataset.py:44\u001b[0m, in \u001b[0;36mBaseDataset.load\u001b[0;34m(self)\u001b[0m\n\u001b[1;32m     42\u001b[0m \u001b[38;5;28mprint\u001b[39m(\u001b[38;5;124mf\u001b[39m\u001b[38;5;124m\"\u001b[39m\u001b[38;5;124mloading dataset \u001b[39m\u001b[38;5;132;01m{\u001b[39;00m\u001b[38;5;28mself\u001b[39m\u001b[38;5;241m.\u001b[39mdataset_save_path\u001b[38;5;132;01m}\u001b[39;00m\u001b[38;5;124m\"\u001b[39m)    \n\u001b[1;32m     43\u001b[0m \u001b[38;5;28;01mwith\u001b[39;00m \u001b[38;5;28mopen\u001b[39m(\u001b[38;5;28mself\u001b[39m\u001b[38;5;241m.\u001b[39mdataset_save_path, \u001b[38;5;124m'\u001b[39m\u001b[38;5;124mrb\u001b[39m\u001b[38;5;124m'\u001b[39m) \u001b[38;5;28;01mas\u001b[39;00m f:\n\u001b[0;32m---> 44\u001b[0m     \u001b[38;5;28;01mreturn\u001b[39;00m \u001b[43mpkl\u001b[49m\u001b[38;5;241;43m.\u001b[39;49m\u001b[43mload\u001b[49m\u001b[43m(\u001b[49m\u001b[43mf\u001b[49m\u001b[43m)\u001b[49m\n",
      "\u001b[0;31mModuleNotFoundError\u001b[0m: No module named 'roadscene2vec'"
     ]
    }
   ],
   "source": [
    "import sys, pdb\n",
    "# from pathlib import Path\n",
    "# sys.path.append(str(Path(\"../../\")))\n",
    "import torch\n",
    "import numpy as np\n",
    "from sklearn.utils.class_weight import compute_class_weight\n",
    "from sklearn.utils import resample\n",
    "from sklearn.model_selection import train_test_split, StratifiedKFold\n",
    "from tqdm import tqdm\n",
    "# /home/irfan/roadscene2vec/roadscene2vec/data/dataset.py\n",
    "from dataset import SceneGraphDataset\n",
    "# from torch_geometric.data import Data, DataLoader, DataListLoader\n",
    "# from roadscene2vec.learning.util.metrics import get_metrics, log_wandb, log_wandb_transfer_learning \n",
    "\n",
    "scene_graph_dataset  = SceneGraphDataset()\n",
    "scene_graph_dataset.dataset_save_path =\"/home/irfan/Downloads/use_case_data-20250504T102722Z-001/use_case_data/271_carla_scenegraphs.pkl\"\n",
    "scene_graph_dataset_ = scene_graph_dataset.load()  "
   ]
  }
 ],
 "metadata": {
  "kernelspec": {
   "display_name": "av",
   "language": "python",
   "name": "python3"
  },
  "language_info": {
   "codemirror_mode": {
    "name": "ipython",
    "version": 3
   },
   "file_extension": ".py",
   "mimetype": "text/x-python",
   "name": "python",
   "nbconvert_exporter": "python",
   "pygments_lexer": "ipython3",
   "version": "3.9.21"
  }
 },
 "nbformat": 4,
 "nbformat_minor": 5
}
